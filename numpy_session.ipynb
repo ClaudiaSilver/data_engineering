{
 "cells": [
  {
   "cell_type": "markdown",
   "metadata": {},
   "source": [
    "Task 1: Create a 1D array of numbers from 0 to 9"
   ]
  },
  {
   "cell_type": "code",
   "execution_count": 5,
   "metadata": {},
   "outputs": [
    {
     "name": "stdout",
     "output_type": "stream",
     "text": [
      "[0 1 2 3 4 5 6 7 8 9]\n"
     ]
    }
   ],
   "source": [
    "import numpy as np\n",
    "array = np.arange(0,10)\n",
    "print(array)"
   ]
  },
  {
   "cell_type": "markdown",
   "metadata": {},
   "source": [
    "Task 2: Create a 3 x 3 numpy array of all boolean 'Trues'"
   ]
  },
  {
   "cell_type": "code",
   "execution_count": 15,
   "metadata": {},
   "outputs": [
    {
     "name": "stdout",
     "output_type": "stream",
     "text": [
      "[[ True  True  True]\n",
      " [ True  True  True]\n",
      " [ True  True  True]]\n"
     ]
    }
   ],
   "source": [
    "#As the integer 1 == bool value 'True' in Python:\n",
    "bools = np.ones(9, dtype=bool)\n",
    "all_bools = bools.reshape(3,3)\n",
    "print(all_bools)"
   ]
  },
  {
   "cell_type": "markdown",
   "metadata": {},
   "source": [
    "Task 3: Extract all odd numbers from an array of 1 to 10"
   ]
  },
  {
   "cell_type": "code",
   "execution_count": 84,
   "metadata": {},
   "outputs": [
    {
     "name": "stdout",
     "output_type": "stream",
     "text": [
      "[1 3 5 7 9]\n"
     ]
    }
   ],
   "source": [
    "#plain Python solution using a for loop: \n",
    "\n",
    "#array = np.arange(0,11)\n",
    "#no_odds_array = []\n",
    "#for i in range(len(array)):\n",
    "    #if i % 2 == 0 and i > 0:#\n",
    "        #no_odds_array.append(i)\n",
    "#print(no_odds_array)\n",
    "\n",
    "\n",
    "#numpy solution: \n",
    "\n",
    "arr = np.arange(0,11)\n",
    "#using array indexing:\n",
    "new_arr = arr[arr % 2 == 1]\n",
    "print(new_arr)     "
   ]
  },
  {
   "cell_type": "markdown",
   "metadata": {},
   "source": [
    "Task 4: Replace all odd numbers in an array of 1 to 10 with the value -1"
   ]
  },
  {
   "cell_type": "code",
   "execution_count": 95,
   "metadata": {},
   "outputs": [
    {
     "name": "stdout",
     "output_type": "stream",
     "text": [
      "[ 0 -1  2 -1  4 -1  6 -1  8 -1 10]\n"
     ]
    }
   ],
   "source": [
    "arr = np.arange(0,11)\n",
    "#using array indexing:\n",
    "arr[arr % 2 == 1] = -1\n",
    "print(arr)\n"
   ]
  },
  {
   "cell_type": "markdown",
   "metadata": {},
   "source": [
    "Task 5: Convert a 1D array to a 2D array with two rows"
   ]
  },
  {
   "cell_type": "code",
   "execution_count": 102,
   "metadata": {},
   "outputs": [
    {
     "name": "stdout",
     "output_type": "stream",
     "text": [
      "[1. 1. 1. 1. 1. 1. 1. 1.]\n",
      "[[1. 1. 1. 1.]\n",
      " [1. 1. 1. 1.]]\n"
     ]
    }
   ],
   "source": [
    "new_arr = np.ones(8)\n",
    "print(new_arr)\n",
    "two_rows = new_arr.reshape(2,4)\n",
    "print(two_rows)"
   ]
  },
  {
   "cell_type": "markdown",
   "metadata": {},
   "source": [
    "Task 6: Create two arrays, stack them vertically and calculate totals"
   ]
  },
  {
   "cell_type": "code",
   "execution_count": 167,
   "metadata": {},
   "outputs": [
    {
     "name": "stdout",
     "output_type": "stream",
     "text": [
      "This is a: \n",
      " [[20 21 22]\n",
      " [23 24 25]\n",
      " [26 27 28]]\n",
      "This is b: \n",
      " [[10 11 12]\n",
      " [13 14 15]\n",
      " [16 17 18]]\n",
      "This is the matrix product c: \n",
      " [[ 825  888  951]\n",
      " [ 942 1014 1086]\n",
      " [1059 1140 1221]]\n",
      "This is the sum of all elements in matrix c: 9126\n"
     ]
    }
   ],
   "source": [
    "a = np.arange(20,29).reshape(3,3)\n",
    "b = np.arange(10,19).reshape(3,3)\n",
    "print(\"This is a: \\n\", a)\n",
    "print(\"This is b: \\n\", b)\n",
    "stacked = np.vstack((a,b))\n",
    "c = np.dot(a,b)\n",
    "print(\"This is the matrix product c: \\n\", c)\n",
    "d = np.sum(c)\n",
    "print(\"This is the sum of all elements in matrix c:\", d)\n"
   ]
  },
  {
   "cell_type": "markdown",
   "metadata": {},
   "source": [
    "Extension Task 1: Create the specified pattern using only numpy functions"
   ]
  },
  {
   "cell_type": "code",
   "execution_count": 227,
   "metadata": {},
   "outputs": [
    {
     "name": "stdout",
     "output_type": "stream",
     "text": [
      "[1. 1. 1. 2. 2. 2. 2. 2. 2. 3. 3. 3. 1. 2. 3. 1. 2. 3. 1. 2. 3.]\n"
     ]
    }
   ],
   "source": [
    "arr1 = np.array([1, 2, 3])\n",
    "\n",
    "final = np.ones(3)\n",
    "final = np.append(final, np.add(final, 1))\n",
    "final = np.append(final, np.add(final, 1))\n",
    "final = np.append(final, arr1)\n",
    "final = np.append(final, arr1)\n",
    "final = np.append(final, arr1)\n",
    "\n",
    "print(final)\n"
   ]
  },
  {
   "cell_type": "markdown",
   "metadata": {},
   "source": [
    "Extension Task 2: In two arrays, remove all repeating items present in the second array"
   ]
  },
  {
   "cell_type": "code",
   "execution_count": 177,
   "metadata": {},
   "outputs": [
    {
     "name": "stdout",
     "output_type": "stream",
     "text": [
      "[1 2 3 4 5]\n",
      "[6 7 8 9]\n"
     ]
    }
   ],
   "source": [
    "a = np.array([1, 2, 3, 4, 5])\n",
    "b = np.array([4, 5, 6, 7, 8, 9])\n",
    "#Finding the duplicates by merging the two sets\n",
    "duplicates = set(a) & set(b)\n",
    "#Converting array b to list for list methods:\n",
    "b = b.tolist()\n",
    "#Looping through the list and removing the duplicates:\n",
    "for i in duplicates:\n",
    "    b.remove(i)\n",
    "#Converting it back to array form:\n",
    "b = np.array(b)\n",
    "print(a)\n",
    "print(b)"
   ]
  },
  {
   "cell_type": "markdown",
   "metadata": {},
   "source": [
    "Extension Task 3: Get all items between 3 and 7 from a and b and sum them."
   ]
  },
  {
   "cell_type": "code",
   "execution_count": 215,
   "metadata": {},
   "outputs": [
    {
     "name": "stdout",
     "output_type": "stream",
     "text": [
      "[4 5]\n",
      "[6]\n",
      "[10 11]\n"
     ]
    }
   ],
   "source": [
    "a = np.array([1, 2, 3, 4, 5])\n",
    "b = np.array([6, 7, 8, 9])\n",
    "\n",
    "new_a = a[(a > 3) & (a < 7)]\n",
    "print(new_a)\n",
    "new_b = b[(b > 3) & (b < 7)]\n",
    "print(new_b)\n",
    "sum = np.add(new_a, new_b)\n",
    "print(sum)"
   ]
  }
 ],
 "metadata": {
  "interpreter": {
   "hash": "40d3a090f54c6569ab1632332b64b2c03c39dcf918b08424e98f38b5ae0af88f"
  },
  "kernelspec": {
   "display_name": "Python 3.8.8 64-bit ('base': conda)",
   "name": "python3"
  },
  "language_info": {
   "codemirror_mode": {
    "name": "ipython",
    "version": 3
   },
   "file_extension": ".py",
   "mimetype": "text/x-python",
   "name": "python",
   "nbconvert_exporter": "python",
   "pygments_lexer": "ipython3",
   "version": "3.8.8"
  },
  "orig_nbformat": 4
 },
 "nbformat": 4,
 "nbformat_minor": 2
}
