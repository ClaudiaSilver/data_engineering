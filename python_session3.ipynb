{
 "cells": [
  {
   "cell_type": "markdown",
   "source": [
    "Task 1"
   ],
   "metadata": {}
  },
  {
   "cell_type": "code",
   "execution_count": 7,
   "source": [
    "my_file = open(\"Numbers\", \"w\")\n",
    "nums = input(\"Please enter the following numbers, separated by a comma as is seen here: 3, 45, 83 and 21:\")\n",
    "my_file.write(nums.replace(\",\", \"\\n\"))\n",
    "my_file.close()"
   ],
   "outputs": [],
   "metadata": {}
  },
  {
   "cell_type": "markdown",
   "source": [
    "Task 2 - Base task"
   ],
   "metadata": {}
  },
  {
   "cell_type": "code",
   "execution_count": 18,
   "source": [
    "percentage_mark = int(input(\"What is your percentage mark?\"))\n",
    "def mark_grade(percent):\n",
    "    if percent >= 85:\n",
    "        grade = \"A\"\n",
    "    elif percent < 85 and percent >= 70:\n",
    "        grade = \"B\"\n",
    "    elif percent < 70 and percent >= 55:\n",
    "        grade = \"C\"\n",
    "    elif percent < 55 and percent >= 40:\n",
    "        grade = \"D\"\n",
    "    else:\n",
    "        grade = \"Fail\"\n",
    "    return grade\n",
    "mark_grade(percentage_mark)\n"
   ],
   "outputs": [
    {
     "output_type": "stream",
     "name": "stdout",
     "text": [
      "Your grade is D.\n"
     ]
    },
    {
     "output_type": "execute_result",
     "data": {
      "text/plain": [
       "'D'"
      ]
     },
     "metadata": {},
     "execution_count": 18
    }
   ],
   "metadata": {}
  },
  {
   "cell_type": "markdown",
   "source": [
    "Task 2 - Extension task"
   ],
   "metadata": {}
  },
  {
   "cell_type": "code",
   "execution_count": 27,
   "source": [
    "percentage_mark = int(input(\"What is your percentage mark?\"))\n",
    "target_grade = input(\"What is your target grade?\")\n",
    "def mark_grade(percent, target):\n",
    "    if percent >= 85:\n",
    "        grade = \"A\"\n",
    "    elif percent < 85 and percent >= 70:\n",
    "        grade = \"B\"\n",
    "    elif percent < 70 and percent >= 55:\n",
    "        grade = \"C\"\n",
    "    elif percent < 55 and percent >= 40:\n",
    "        grade = \"D\"\n",
    "    else:\n",
    "        grade = \"Fail\"\n",
    "#NB. a < b in Python due to their Unicode point numbers\n",
    "    if target < grade:\n",
    "        print(\"Sorry, better luck next time!\")\n",
    "    elif target == grade:\n",
    "        print(\"Nice one! You did it!\")\n",
    "    else:\n",
    "        print(\"You did better than expected!\")\n",
    "\n",
    "    return grade\n",
    "mark_grade(percentage_mark, target_grade)\n",
    "\n",
    "\n",
    "\n"
   ],
   "outputs": [
    {
     "output_type": "stream",
     "name": "stdout",
     "text": [
      "Sorry, better luck next time!\n"
     ]
    },
    {
     "output_type": "execute_result",
     "data": {
      "text/plain": [
       "'C'"
      ]
     },
     "metadata": {},
     "execution_count": 27
    }
   ],
   "metadata": {}
  }
 ],
 "metadata": {
  "orig_nbformat": 4,
  "language_info": {
   "name": "python",
   "version": "3.9.7",
   "mimetype": "text/x-python",
   "codemirror_mode": {
    "name": "ipython",
    "version": 3
   },
   "pygments_lexer": "ipython3",
   "nbconvert_exporter": "python",
   "file_extension": ".py"
  },
  "kernelspec": {
   "name": "python3",
   "display_name": "Python 3.9.7 64-bit"
  },
  "interpreter": {
   "hash": "b0fa6594d8f4cbf19f97940f81e996739fb7646882a419484c72d19e05852a7e"
  }
 },
 "nbformat": 4,
 "nbformat_minor": 2
}