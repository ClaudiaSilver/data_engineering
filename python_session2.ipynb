{
 "cells": [
  {
   "cell_type": "markdown",
   "source": [
    "Task 1: Flow diagram (see PDF) and the code below"
   ],
   "metadata": {}
  },
  {
   "cell_type": "code",
   "execution_count": 66,
   "source": [
    "#Choose main course\n",
    "print(\"Hello, thank you for choosing Fantastic Food Solutions! Please choose your main course.\")\n",
    "main_course = input(\"Press 'a' for Pizza or 'b' for Chicken Curry.\")\n",
    "if main_course ==\"a\":\n",
    "    main_course =\"Pizza\"\n",
    "else:\n",
    "    main_course = \"Chicken Curry\"\n",
    "#Choose sides\n",
    "print(\"Would you like any sides with that?\")\n",
    "sides = input(\"Press 'a' to add today's sides to your order or 'b' for no sides\")\n",
    "if sides == \"a\":\n",
    "    sides = \"Sides of the Day\"\n",
    "else:\n",
    "    sides = \"no sides\"\n",
    "#Choose drinks\n",
    "print(\"Would you like to order drinks?\")\n",
    "drinks = input(\"Press 'a' to order the House Wine or 'b' to skip\")\n",
    "if drinks == \"a\":\n",
    "    drinks = \"House Wine\"\n",
    "else:\n",
    "    drinks = \"no drinks\"\n",
    "#Add tip\n",
    "print(\"Would you like to add a tip? We'd really appreciate it.\")\n",
    "tip = (input(\"Enter the amount here:\"))\n",
    "print(\"So you are having the \"+main_course+\" and \"+sides+ \", all with \"+drinks+ \". You've generously tipped £\"+tip+\".\" )\n",
    "#Prompt user to proceed to payment.\n",
    "print(\"Please proceed to the payment screen. Have a nice day.\")"
   ],
   "outputs": [
    {
     "output_type": "stream",
     "name": "stdout",
     "text": [
      "Hello, thank you for choosing Fantastic Food Solutions! Please choose your main course.\n",
      "Would you like any sides with that?\n",
      "Would you like to order drinks?\n",
      "Would you like to add a tip? We'd really appreciate it.\n",
      "So you are having the Pizza and no sides, all with House Wine. You've generously tipped £b.\n",
      "Please proceed to the payment screen. Have a nice day.\n"
     ]
    }
   ],
   "metadata": {}
  },
  {
   "cell_type": "markdown",
   "source": [
    "Task 2"
   ],
   "metadata": {}
  },
  {
   "cell_type": "code",
   "execution_count": 72,
   "source": [
    "def motorbike(initial_value, deprecating_factor):\n",
    "    i = initial_value\n",
    "    while i > 0:\n",
    "        i -= deprecating_factor\n",
    "        if i < 1000:\n",
    "            return i\n",
    "    \n",
    "    \n",
    "motorbike(2000, 200)"
   ],
   "outputs": [
    {
     "output_type": "execute_result",
     "data": {
      "text/plain": [
       "800"
      ]
     },
     "metadata": {},
     "execution_count": 72
    }
   ],
   "metadata": {}
  },
  {
   "cell_type": "markdown",
   "source": [
    "Task 3"
   ],
   "metadata": {}
  },
  {
   "cell_type": "code",
   "execution_count": 75,
   "source": [
    "first_num = int(input(\"What's your first number?\"))\n",
    "second_num = int(input(\"What's your second number?\"))\n",
    "print(\"Enter 'a' if you want to add the two numbers, 'b' if you want to subtract the second from the first number, 'c' to multiply, 'd' to divide them or 'e' to rise the second number as a power of the first number\")\n",
    "operation = input(\"Enter your desired operation:\")\n",
    "\n",
    "def calculator():\n",
    "    if operation == \"a\":\n",
    "        print(\"The result is \" +str(first_num + second_num))\n",
    "    elif operation == \"b\":\n",
    "        print(\"The result is \" +str(first_num - second_num))\n",
    "    elif operation == \"c\":\n",
    "        print(\"The result is \" +str(first_num * second_num))\n",
    "    elif operation == \"d\":\n",
    "        print(\"The result is \" +str(first_num / second_num))\n",
    "    elif operation == \"e\":\n",
    "        print(\"The result is \" +str(first_num ** second_num))\n",
    "    else:\n",
    "        print(\"This operation does not exist.\")\n",
    "\n",
    "calculator()"
   ],
   "outputs": [
    {
     "output_type": "stream",
     "name": "stdout",
     "text": [
      "Enter 'a' if you want to add the two numbers, 'b' if you want to subtract the second from the first number, 'c' to multiply, 'd' to divide them or 'e' to rise the second number as a power of the first number\n",
      "The result is 5\n"
     ]
    }
   ],
   "metadata": {}
  }
 ],
 "metadata": {
  "orig_nbformat": 4,
  "language_info": {
   "name": "python",
   "version": "3.9.7",
   "mimetype": "text/x-python",
   "codemirror_mode": {
    "name": "ipython",
    "version": 3
   },
   "pygments_lexer": "ipython3",
   "nbconvert_exporter": "python",
   "file_extension": ".py"
  },
  "kernelspec": {
   "name": "python3",
   "display_name": "Python 3.9.7 64-bit"
  },
  "interpreter": {
   "hash": "b0fa6594d8f4cbf19f97940f81e996739fb7646882a419484c72d19e05852a7e"
  }
 },
 "nbformat": 4,
 "nbformat_minor": 2
}