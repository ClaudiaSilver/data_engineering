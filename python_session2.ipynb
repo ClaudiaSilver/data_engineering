{
 "cells": [
  {
   "cell_type": "markdown",
   "source": [
    "Task 1: Flow diagram (see PDF) and the code below"
   ],
   "metadata": {}
  },
  {
   "cell_type": "code",
   "execution_count": 21,
   "source": [
    "#Choose main course\n",
    "print(\"Hello, thank you for choosing Fantastic Food Solutions! Please choose your main course.\")\n",
    "main_course = input(\"Press 'a' for Pizza or 'b' for Chicken Curry.\")\n",
    "if main_course ==\"a\":\n",
    "    main_course =\"Pizza\"\n",
    "else:\n",
    "    main_course = \"Chicken Curry\"\n",
    "#Choose sides\n",
    "print(\"Would you like any sides with that?\")\n",
    "sides = input(\"Press 'a' to add today's sides to your order or 'b' for no sides\")\n",
    "if sides == \"a\":\n",
    "    sides = \"Sides of the Day\"\n",
    "else:\n",
    "    sides = \"no sides\"\n",
    "#Choose drinks\n",
    "print(\"Would you like to order drinks?\")\n",
    "drinks = input(\"Press 'a' to order the House Wine or 'b' to skip\")\n",
    "if drinks == \"a\":\n",
    "    drinks = \"House Wine\"\n",
    "else:\n",
    "    drinks = \"no drinks\"\n",
    "print(\"Would you like to add a tip? We'd really appreciate it.\")\n",
    "tip = (input(\"Enter the amount here:\"))\n",
    "print(\"So you are having the \"+main_course+\" and \"+sides+ \", all with \"+drinks+ \". You've generously tipped £\"+tip+\".\" )\n",
    "print(\"Please proceed to the payment screen. Have a nice day.\")"
   ],
   "outputs": [
    {
     "output_type": "stream",
     "name": "stdout",
     "text": [
      "Hello, thank you for choosing Fantastic Food Solutions! Please choose your main course.\n",
      "Would you like any sides with that?\n",
      "Would you like to order drinks?\n",
      "Would you like to add a tip? We'd really appreciate it.\n",
      "So you are having the Pizza and no sides, all with House Wine. You've generously tipped £20.\n",
      "Please proceed to the payment screen. Have a nice day.\n"
     ]
    }
   ],
   "metadata": {}
  },
  {
   "cell_type": "code",
   "execution_count": null,
   "source": [],
   "outputs": [],
   "metadata": {}
  }
 ],
 "metadata": {
  "orig_nbformat": 4,
  "language_info": {
   "name": "python",
   "version": "3.9.7",
   "mimetype": "text/x-python",
   "codemirror_mode": {
    "name": "ipython",
    "version": 3
   },
   "pygments_lexer": "ipython3",
   "nbconvert_exporter": "python",
   "file_extension": ".py"
  },
  "kernelspec": {
   "name": "python3",
   "display_name": "Python 3.9.7 64-bit"
  },
  "interpreter": {
   "hash": "b0fa6594d8f4cbf19f97940f81e996739fb7646882a419484c72d19e05852a7e"
  }
 },
 "nbformat": 4,
 "nbformat_minor": 2
}