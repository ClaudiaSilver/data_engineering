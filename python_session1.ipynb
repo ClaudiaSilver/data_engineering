{
 "cells": [
  {
   "cell_type": "markdown",
   "source": [
    "Task 1"
   ],
   "metadata": {}
  },
  {
   "cell_type": "code",
   "execution_count": 4,
   "source": [
    "import random\n",
    "rando_num = random.randint(1, 10)\n",
    "user_name =input(\"What's your name?\")\n",
    "print(\"Now, \" +user_name+ \", please choose a number between 1 and 10.\")\n",
    "user_num =int(input(\"So, which number shall it be?\"))\n",
    "if user_num == rando_num:\n",
    "    print(\"Wow, you must be psychic!\")\n",
    "else:\n",
    "    print(\"Wrong! Goodbye.\")\n",
    "    "
   ],
   "outputs": [
    {
     "output_type": "stream",
     "name": "stdout",
     "text": [
      "Now, Claudia, please choose a number between 1 and 10.\n",
      "Wrong! Goodbye.\n"
     ]
    }
   ],
   "metadata": {}
  },
  {
   "cell_type": "markdown",
   "source": [
    "Task 2"
   ],
   "metadata": {}
  },
  {
   "cell_type": "code",
   "execution_count": 29,
   "source": [
    "fav_num = int(input(\"What's your favourite number between 1 and 100?\"))\n",
    "if fav_num % 2 == 0 and fav_num < 50: \n",
    "    print(\"I hate Russian dolls… they're so full of themselves!\")\n",
    "elif fav_num %2 == 1 and fav_num < 50:\n",
    "    print(\"You know what I saw today? Everything I looked at.\")\n",
    "else:\n",
    "    print(\"Why doesn't the sun go to college? Because it has a million degrees!\")"
   ],
   "outputs": [
    {
     "output_type": "stream",
     "name": "stdout",
     "text": [
      "You know what I saw today? Everything I looked at.\n"
     ]
    }
   ],
   "metadata": {}
  },
  {
   "cell_type": "markdown",
   "source": [
    "Task 3"
   ],
   "metadata": {}
  },
  {
   "cell_type": "code",
   "execution_count": 9,
   "source": [
    "starter = input(\"What's your favourite starter?\")\n",
    "main = input(\"What's the most amazing main course?\")\n",
    "pudding = input(\"What's your dream dessert?\")\n",
    "drink = input(\"What would you like to drink with that?\")\n",
    "print(\"So, you'd have the \" +starter+ \", followed by the \"+main+ \" and then the \"+pudding+\", all with a glass of \"+drink+\".\")"
   ],
   "outputs": [
    {
     "output_type": "stream",
     "name": "stdout",
     "text": [
      "So, you'd have the prawns, followed by the lasagne and then the chocolate mousse, all with a glass of white wine.\n"
     ]
    }
   ],
   "metadata": {}
  },
  {
   "cell_type": "markdown",
   "source": [
    "Task 4"
   ],
   "metadata": {}
  },
  {
   "cell_type": "code",
   "execution_count": 11,
   "source": [
    "#10% of 2000 is 200. Hence, the motorbike deprecates in value by a factor of £200 each year. We want to stop the loop as soon as i is less than 1000.\n",
    "i = 2000\n",
    "while i > 0:\n",
    "    i -= 200\n",
    "    print(i)\n",
    "    if i < 1000:\n",
    "        break"
   ],
   "outputs": [
    {
     "output_type": "stream",
     "name": "stdout",
     "text": [
      "1800\n",
      "1600\n",
      "1400\n",
      "1200\n",
      "1000\n",
      "800\n"
     ]
    }
   ],
   "metadata": {}
  },
  {
   "cell_type": "markdown",
   "source": [
    "Task 5"
   ],
   "metadata": {}
  },
  {
   "cell_type": "code",
   "execution_count": 28,
   "source": [
    "first_num = int(input(\"What's your first number?\"))\n",
    "second_num = int(input(\"What's your second number?\"))\n",
    "print(\"Enter 'a' if you want to add the two numbers, 'b' if you want to subtract the second from the first number, 'c' to multiply, 'd' to divide them or 'e' to rise the second number as a power of the first number\")\n",
    "operation = input(\"Enter your desired operation:\")\n",
    "if operation == \"a\":\n",
    "    print(\"The result is \" +str(first_num + second_num))\n",
    "elif operation == \"b\":\n",
    "    print(\"The result is \" +str(first_num - second_num))\n",
    "elif operation == \"c\":\n",
    "    print(\"The result is \" +str(first_num * second_num))\n",
    "elif operation == \"d\":\n",
    "    print(\"The result is \" +str(first_num / second_num))\n",
    "elif operation == \"e\":\n",
    "    print(\"The result is \" +str(first_num ** second_num))\n",
    "else:\n",
    "    print(\"This operation does not exist.\")"
   ],
   "outputs": [
    {
     "output_type": "stream",
     "name": "stdout",
     "text": [
      "Enter 'a' if you want to add the two numbers, 'b' if you want to subtract the second from the first number, 'c' to multiply, 'd' to divide them or 'e' to rise the second number as a power of the first number\n",
      "The result is 15625\n"
     ]
    }
   ],
   "metadata": {}
  }
 ],
 "metadata": {
  "orig_nbformat": 4,
  "language_info": {
   "name": "python",
   "version": "3.9.7",
   "mimetype": "text/x-python",
   "codemirror_mode": {
    "name": "ipython",
    "version": 3
   },
   "pygments_lexer": "ipython3",
   "nbconvert_exporter": "python",
   "file_extension": ".py"
  },
  "kernelspec": {
   "name": "python3",
   "display_name": "Python 3.9.7 64-bit"
  },
  "interpreter": {
   "hash": "b0fa6594d8f4cbf19f97940f81e996739fb7646882a419484c72d19e05852a7e"
  }
 },
 "nbformat": 4,
 "nbformat_minor": 2
}