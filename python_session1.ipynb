{
 "cells": [
  {
   "cell_type": "markdown",
   "source": [
    "Task 1"
   ],
   "metadata": {}
  },
  {
   "cell_type": "code",
   "execution_count": 3,
   "source": [
    "import random\n",
    "rando_num = random.randint(1, 10)\n",
    "user_name =input(\"What's your name?\")\n",
    "print(\"Now, \" +user_name+ \", please choose a number between 1 and 10.\")\n",
    "user_num =int(input(\"So, which number shall it be?\"))\n",
    "if user_num == rando_num:\n",
    "    print(\"Wow, you must be psychic!\")\n",
    "else:\n",
    "    print(\"Wrong! Goodbye.\")"
   ],
   "outputs": [
    {
     "output_type": "stream",
     "name": "stdout",
     "text": [
      "Now, Nandi, please choose a number between 1 and 10.\n",
      "Wrong! Goodbye.\n"
     ]
    }
   ],
   "metadata": {}
  }
 ],
 "metadata": {
  "orig_nbformat": 4,
  "language_info": {
   "name": "python",
   "version": "3.9.7",
   "mimetype": "text/x-python",
   "codemirror_mode": {
    "name": "ipython",
    "version": 3
   },
   "pygments_lexer": "ipython3",
   "nbconvert_exporter": "python",
   "file_extension": ".py"
  },
  "kernelspec": {
   "name": "python3",
   "display_name": "Python 3.9.7 64-bit"
  },
  "interpreter": {
   "hash": "b0fa6594d8f4cbf19f97940f81e996739fb7646882a419484c72d19e05852a7e"
  }
 },
 "nbformat": 4,
 "nbformat_minor": 2
}